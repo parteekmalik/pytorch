{
 "cells": [
  {
   "cell_type": "code",
   "execution_count": null,
   "metadata": {},
   "outputs": [],
   "source": [
    "import yaml\n",
    "from pathlib import Path\n",
    "import h5py\n",
    "import matplotlib.pyplot as plt\n",
    "\n",
    "# Get project root\n",
    "notebook_dir = Path.cwd()\n",
    "project_root = Path('pytorch/crypto/classifier')\n",
    "\n",
    "# Load config\n",
    "with open(project_root / 'config' / 'config.yaml', 'r') as f:\n",
    "    config = yaml.safe_load(f)\n",
    "\n",
    "# Generate HDF5 path from config\n",
    "symbol = config['data']['symbol']\n",
    "interval = config['data']['interval']\n",
    "start_date = config['data']['start_date']\n",
    "end_date = config['data']['end_date']\n",
    "\n",
    "img_filename = f\"crypto_{symbol}_{interval}_{start_date}_{end_date}.h5\"\n",
    "img_path = project_root / config['paths']['processed_data'] / img_filename\n",
    "\n",
    "# Load and display first image\n",
    "if img_path.exists():\n",
    "    with h5py.File(img_path, 'r') as f:\n",
    "        img = f['images'][0]\n",
    "        print(f\"Total images in file: {f['images'].shape[0]:,}\")\n",
    "        print(f\"Image resolution: {img.shape[1]}x{img.shape[0]} (WxH)\")\n",
    "    \n",
    "    plt.figure(figsize=(12, 7))\n",
    "    plt.imshow(img, cmap='gray', aspect='auto')\n",
    "    plt.axis('off')  # Remove all axes and labels\n",
    "    plt.tight_layout()\n",
    "    plt.show()\n",
    "else:\n",
    "    print(f\"❌ HDF5 file not found: {img_path}\")\n",
    "    print(\"Run: python pipeline.py\")"
   ]
  }
 ],
 "metadata": {
  "kernelspec": {
   "display_name": "crypto_env",
   "language": "python",
   "name": "python3"
  },
  "language_info": {
   "codemirror_mode": {
    "name": "ipython",
    "version": 3
   },
   "file_extension": ".py",
   "mimetype": "text/x-python",
   "name": "python",
   "nbconvert_exporter": "python",
   "pygments_lexer": "ipython3",
   "version": "3.9.23"
  }
 },
 "nbformat": 4,
 "nbformat_minor": 0
}
