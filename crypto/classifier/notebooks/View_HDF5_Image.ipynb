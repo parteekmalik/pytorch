{
 "cells": [
  {
   "cell_type": "code",
   "execution_count": null,
   "metadata": {},
   "outputs": [],
   "source": [
    "import random\n",
    "import yaml\n",
    "from pathlib import Path\n",
    "import matplotlib.pyplot as plt\n",
    "import sys\n",
    "\n",
    "# Add parent directory to path for relative imports\n",
    "sys.path.append(str(Path('..')))\n",
    "from src.image_storage import load_single_image, get_storage_info\n",
    "\n",
    "# Get project root\n",
    "notebook_dir = Path.cwd()\n",
    "project_root = Path('../')\n",
    "\n",
    "# Load config\n",
    "with open(project_root / 'config' / 'config.yaml', 'r') as f:\n",
    "    config = yaml.safe_load(f)\n",
    "\n",
    "# Generate HDF5 path from config\n",
    "symbol = config['data']['symbol']\n",
    "interval = config['data']['interval']\n",
    "start_date = config['data']['start_date']\n",
    "end_date = config['data']['end_date']\n",
    "\n",
    "img_filename = f\"crypto_{symbol}_{interval}_{start_date}_{end_date}.h5\"\n",
    "img_path = project_root / config['paths']['processed_data'] / img_filename\n",
    "\n",
    "# Load and display image\n",
    "if img_path.exists():\n",
    "    # Get storage info\n",
    "    info = get_storage_info(str(img_path), 'hdf5')\n",
    "    storage_format = info['metadata'].get('storage_format', 'unknown')\n",
    "    \n",
    "    # Load random image (automatic format detection and recreation)\n",
    "    random_idx = random.randint(0, min(999, info['num_images'] - 1))\n",
    "    img = load_single_image(str(img_path), random_idx)\n",
    "    \n",
    "    # Display the image\n",
    "    plt.figure(figsize=(12, 7))\n",
    "    plt.imshow(img, cmap='gray', aspect='auto')\n",
    "    plt.axis('off')\n",
    "    plt.title(f\"OHLC Bar Chart - {symbol} ({interval})\", fontsize=14, pad=20)\n",
    "    plt.tight_layout()\n",
    "    plt.show()\n",
    "        \n",
    "else:\n",
    "    print(f\"❌ HDF5 file not found: {img_path}\")\n",
    "    print(\"Run: python pipeline.py\")"
   ]
  }
 ],
 "metadata": {
  "kernelspec": {
   "display_name": "crypto_env",
   "language": "python",
   "name": "python3"
  },
  "language_info": {
   "codemirror_mode": {
    "name": "ipython",
    "version": 3
   },
   "file_extension": ".py",
   "mimetype": "text/x-python",
   "name": "python",
   "nbconvert_exporter": "python",
   "pygments_lexer": "ipython3",
   "version": "3.9.23"
  }
 },
 "nbformat": 4,
 "nbformat_minor": 0
}
